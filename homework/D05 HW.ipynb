{
 "cells": [
  {
   "cell_type": "code",
   "execution_count": 1,
   "metadata": {},
   "outputs": [],
   "source": [
    "import numpy as np\n",
    "\n",
    "english_score = np.array([55,89,76,65,48,    70])\n",
    "\n",
    "math_score =    np.array([60,85,60,68,np.nan,60])\n",
    "\n",
    "chinese_score = np.array([65,90,82,72,66,    77])\n"
   ]
  },
  {
   "cell_type": "code",
   "execution_count": 5,
   "metadata": {},
   "outputs": [
    {
     "name": "stdout",
     "output_type": "stream",
     "text": [
      "english has average = \n",
      "67.16666666666667\n",
      "max = \n",
      "89\n",
      "min = \n",
      "48\n",
      "std = \n",
      "13.433995020924426\n"
     ]
    }
   ],
   "source": [
    "# 1.\n",
    "\n",
    "print('english has average = ') \n",
    "print(np.mean(english_score))\n",
    "print('max = ')\n",
    "print(np.nanmax(english_score))\n",
    "print('min = ')\n",
    "print(np.nanmin(english_score))\n",
    "print('std = ')\n",
    "print(np.std(english_score))"
   ]
  },
  {
   "cell_type": "code",
   "execution_count": 6,
   "metadata": {},
   "outputs": [
    {
     "name": "stdout",
     "output_type": "stream",
     "text": [
      "math has average = \n",
      "66.6\n",
      "max = \n",
      "85.0\n",
      "min = \n",
      "60.0\n",
      "std = \n",
      "9.707728879609279\n"
     ]
    }
   ],
   "source": [
    "print('math has average = ') \n",
    "print(np.nanmean(math_score))\n",
    "print('max = ')\n",
    "print(np.nanmax(math_score))\n",
    "print('min = ')\n",
    "print(np.nanmin(math_score))\n",
    "print('std = ')\n",
    "print(np.nanstd(math_score))    # 數學缺一筆資料可忽略 (Use nan-...)"
   ]
  },
  {
   "cell_type": "code",
   "execution_count": 7,
   "metadata": {},
   "outputs": [
    {
     "name": "stdout",
     "output_type": "stream",
     "text": [
      "chinese has average = \n",
      "75.33333333333333\n",
      "max = \n",
      "90\n",
      "min = \n",
      "65\n",
      "std = \n",
      "8.825468196582484\n"
     ]
    }
   ],
   "source": [
    "print('chinese has average = ') \n",
    "print(np.mean(chinese_score))\n",
    "print('max = ')\n",
    "print(np.nanmax(chinese_score))\n",
    "print('min = ')\n",
    "print(np.nanmin(chinese_score))\n",
    "print('std = ')\n",
    "print(np.std(chinese_score))   "
   ]
  },
  {
   "cell_type": "code",
   "execution_count": 8,
   "metadata": {},
   "outputs": [
    {
     "name": "stdout",
     "output_type": "stream",
     "text": [
      "new_math has average = \n",
      "64.66666666666667\n",
      "max = \n",
      "85\n",
      "min = \n",
      "55\n",
      "std = \n",
      "9.860132971832694\n"
     ]
    }
   ],
   "source": [
    "# 2.\n",
    "\n",
    "new_math_score = np.array([60,85,60,68,55,60])\n",
    "\n",
    "print('new_math has average = ') \n",
    "print(np.mean(new_math_score))\n",
    "print('max = ')\n",
    "print(np.nanmax(new_math_score))\n",
    "print('min = ')\n",
    "print(np.nanmin(new_math_score))\n",
    "print('std = ')\n",
    "print(np.std(new_math_score))   "
   ]
  },
  {
   "cell_type": "code",
   "execution_count": 10,
   "metadata": {},
   "outputs": [
    {
     "name": "stdout",
     "output_type": "stream",
     "text": [
      "[[1.         0.74056803]\n",
      " [0.74056803 1.        ]]\n",
      "[[1.         0.97792828]\n",
      " [0.97792828 1.        ]]\n",
      "chinese to english has the highest correlation coefficient\n"
     ]
    }
   ],
   "source": [
    "# 3.\n",
    "\n",
    "print(np.corrcoef(chinese_score,new_math_score))\n",
    "print(np.corrcoef(chinese_score,english_score))\n",
    "\n",
    "print('chinese to english has the highest correlation coefficient')"
   ]
  },
  {
   "cell_type": "code",
   "execution_count": null,
   "metadata": {},
   "outputs": [],
   "source": []
  }
 ],
 "metadata": {
  "kernelspec": {
   "display_name": "Python 3",
   "language": "python",
   "name": "python3"
  },
  "language_info": {
   "codemirror_mode": {
    "name": "ipython",
    "version": 3
   },
   "file_extension": ".py",
   "mimetype": "text/x-python",
   "name": "python",
   "nbconvert_exporter": "python",
   "pygments_lexer": "ipython3",
   "version": "3.8.5"
  }
 },
 "nbformat": 4,
 "nbformat_minor": 4
}
